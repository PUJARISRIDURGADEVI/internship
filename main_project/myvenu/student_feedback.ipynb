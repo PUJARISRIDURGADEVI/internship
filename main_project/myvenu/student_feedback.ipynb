{
 "cells": [
  {
   "cell_type": "code",
   "execution_count": 1,
   "id": "366083f8",
   "metadata": {},
   "outputs": [],
   "source": [
    "import pandas as pd\n",
    "import numpy as np\n",
    "import pickle\n",
    "import nltk\n"
   ]
  },
  {
   "cell_type": "code",
   "execution_count": 2,
   "id": "17ee3946",
   "metadata": {},
   "outputs": [],
   "source": [
    "from sklearn.feature_extraction.text import CountVectorizer\n",
    "from sklearn.feature_extraction.text import TfidfTransformer\n",
    "from sklearn.pipeline import Pipeline\n",
    "from nltk.stem.snowball import SnowballStemmer\n",
    "from sklearn.linear_model import SGDClassifier\n",
    "from sklearn.naive_bayes import MultinomialNB\n",
    "from sklearn.tree import DecisionTreeClassifier\n",
    "from sklearn.metrics import accuracy_score"
   ]
  },
  {
   "cell_type": "code",
   "execution_count": 3,
   "id": "06d998a2",
   "metadata": {},
   "outputs": [],
   "source": [
    "class Models:\n",
    "    def __init__(self):\n",
    "        self.name = ''\n",
    "        path =r\"D:\\REPO\\internship\\main project\\trainingdata.csv\"\n",
    "        df = pd.read_csv(path)\n",
    "        df = df.dropna()\n",
    "        self.x = df['sentences']\n",
    "        self.y = df['sentiments']"
   ]
  },
  {
   "cell_type": "code",
   "execution_count": 4,
   "id": "d33ff21e",
   "metadata": {},
   "outputs": [],
   "source": [
    "    def mnb_classifier(self):\n",
    "        self.name = 'MultinomialNB classifier'\n",
    "        classifier = Pipeline([('vect', CountVectorizer()), ('tfidf', TfidfTransformer()), ('clf', MultinomialNB())])\n",
    "        return classifier.fit(self.x, self.y)"
   ]
  },
  {
   "cell_type": "code",
   "execution_count": 5,
   "id": "acb64ebb",
   "metadata": {},
   "outputs": [],
   "source": [
    "   def svm_classifier(self):\n",
    "        self.name = 'SVM classifier'\n",
    "        classifier = Pipeline([('vect', CountVectorizer()), ('tfidf', TfidfTransformer()),('clf-svm', SGDClassifier(loss='hinge', penalty='l2',alpha=1e-3, random_state=42))])\n",
    "        classifier = classifier.fit(self.x, self.y)\n",
    "        pickle.dump(classifier,open(self.name + '.pkl', \"wb\"))\n",
    "        return classifier\n"
   ]
  },
  {
   "cell_type": "code",
   "execution_count": 6,
   "id": "99fd9702",
   "metadata": {},
   "outputs": [],
   "source": [
    "    def mnb_stemmed_classifier(self):\n",
    "        self.name = 'MultinomialNB stemmed classifier'\n",
    "        self.stemmed_count_vect = StemmedCountVectorizer(stop_words='english')\n",
    "        classifier = Pipeline([('vect', self.stemmed_count_vect), ('tfidf', TfidfTransformer()),('mnb', MultinomialNB(fit_prior=False))])\n",
    "        classifier = classifier.fit(self.x, self.y)\n",
    "        pickle.dump(classifier, open(self.name + '.pkl', \"wb\"))\n",
    "        return classifier"
   ]
  },
  {
   "cell_type": "code",
   "execution_count": 7,
   "id": "29936465",
   "metadata": {},
   "outputs": [],
   "source": [
    "    def svm_stemmed_classifier(self):\n",
    "        self.name = 'SVM stemmed classifier'\n",
    "        self.stemmed_count_vect = StemmedCountVectorizer(stop_words='english')\n",
    "        classifier = Pipeline([('vect', self.stemmed_count_vect), ('tfidf', TfidfTransformer()),('clf-svm', SGDClassifier())])\n",
    "        classifier = classifier.fit(self.x, self.y)\n",
    "        pickle.dump(classifier, open(self.name + '.pkl', \"wb\"))\n",
    "        return classifier"
   ]
  },
  {
   "cell_type": "code",
   "execution_count": 17,
   "id": "f0109915",
   "metadata": {},
   "outputs": [],
   "source": [
    "    def accuracy(self, model):\n",
    "        from sklearn.metrics import accuracy_score\n",
    "        y_pred = model.predict(self.X_test)\n",
    "        acc = accuracy_score(self.y_test, y_pred)\n",
    "        print(f\"Accuracy: {acc * 100:.2f}%\")"
   ]
  },
  {
   "cell_type": "code",
   "execution_count": 15,
   "id": "e6c68009",
   "metadata": {},
   "outputs": [],
   "source": [
    "class StemmedCountVectorizer(CountVectorizer):\n",
    "\n",
    "    def build_analyzer(self):\n",
    "        stemmer = SnowballStemmer(\"english\", ignore_stopwords=True)\n",
    "        analyzer = super(StemmedCountVectorizer, self).build_analyzer()\n",
    "        return lambda doc: ([stemmer.stem(w) for w in analyzer(doc)])"
   ]
  },
  {
   "cell_type": "code",
   "execution_count": 16,
   "id": "ef6f9bac",
   "metadata": {},
   "outputs": [
    {
     "ename": "AttributeError",
     "evalue": "'Models' object has no attribute 'accuracy'",
     "output_type": "error",
     "traceback": [
      "\u001b[31m---------------------------------------------------------------------------\u001b[39m",
      "\u001b[31mAttributeError\u001b[39m                            Traceback (most recent call last)",
      "\u001b[36mCell\u001b[39m\u001b[36m \u001b[39m\u001b[32mIn[16]\u001b[39m\u001b[32m, line 3\u001b[39m\n\u001b[32m      1\u001b[39m \u001b[38;5;28;01mif\u001b[39;00m \u001b[34m__name__\u001b[39m == \u001b[33m'\u001b[39m\u001b[33m__main__\u001b[39m\u001b[33m'\u001b[39m:\n\u001b[32m      2\u001b[39m     model = Models()\n\u001b[32m----> \u001b[39m\u001b[32m3\u001b[39m     \u001b[43mmodel\u001b[49m\u001b[43m.\u001b[49m\u001b[43maccuracy\u001b[49m(model.mnb_classifier())\n\u001b[32m      4\u001b[39m     model.accuracy(model.svm_classifier())\n\u001b[32m      5\u001b[39m     model.accuracy(model.mnb_stemmed_classifier())\n",
      "\u001b[31mAttributeError\u001b[39m: 'Models' object has no attribute 'accuracy'"
     ]
    }
   ],
   "source": [
    "if __name__ == '__main__':\n",
    "    model = Models()\n",
    "    model.accuracy(model.mnb_classifier())\n",
    "    model.accuracy(model.svm_classifier())\n",
    "    model.accuracy(model.mnb_stemmed_classifier())\n",
    "    model.accuracy(model.svm_stemmed_classifier())\n",
    "\n"
   ]
  },
  {
   "cell_type": "code",
   "execution_count": null,
   "id": "4ef80f65",
   "metadata": {},
   "outputs": [],
   "source": []
  }
 ],
 "metadata": {
  "kernelspec": {
   "display_name": "myvenu",
   "language": "python",
   "name": "python3"
  },
  "language_info": {
   "codemirror_mode": {
    "name": "ipython",
    "version": 3
   },
   "file_extension": ".py",
   "mimetype": "text/x-python",
   "name": "python",
   "nbconvert_exporter": "python",
   "pygments_lexer": "ipython3",
   "version": "3.12.4"
  }
 },
 "nbformat": 4,
 "nbformat_minor": 5
}
