{
 "cells": [
  {
   "cell_type": "code",
   "execution_count": null,
   "id": "366083f8",
   "metadata": {},
   "outputs": [
    {
     "ename": "",
     "evalue": "",
     "output_type": "error",
     "traceback": [
      "\u001b[1;31mRunning cells with '.conda (Python 3.11.11)' requires the ipykernel package.\n",
      "\u001b[1;31m<a href='command:jupyter.createPythonEnvAndSelectController'>Create a Python Environment</a> with the required packages.\n",
      "\u001b[1;31mOr install 'ipykernel' using the command: 'conda install -n .conda ipykernel --update-deps --force-reinstall'"
     ]
    }
   ],
   "source": [
    "import pandas as pd\n",
    "import numpy as np\n",
    "import pickle\n",
    "import nltk\n"
   ]
  },
  {
   "cell_type": "code",
   "execution_count": 2,
   "id": "17ee3946",
   "metadata": {},
   "outputs": [],
   "source": [
    "from sklearn.feature_extraction.text import CountVectorizer\n",
    "from sklearn.feature_extraction.text import TfidfTransformer\n",
    "from sklearn.pipeline import Pipeline\n",
    "from nltk.stem.snowball import SnowballStemmer\n",
    "from sklearn.linear_model import SGDClassifier\n",
    "from sklearn.naive_bayes import MultinomialNB\n",
    "from sklearn.tree import DecisionTreeClassifier\n",
    "from sklearn.metrics import accuracy_score"
   ]
  },
  {
   "cell_type": "code",
   "execution_count": null,
   "id": "06d998a2",
   "metadata": {},
   "outputs": [
    {
     "ename": "",
     "evalue": "",
     "output_type": "error",
     "traceback": [
      "\u001b[1;31mRunning cells with '.conda (Python 3.11.11)' requires the ipykernel package.\n",
      "\u001b[1;31m<a href='command:jupyter.createPythonEnvAndSelectController'>Create a Python Environment</a> with the required packages.\n",
      "\u001b[1;31mOr install 'ipykernel' using the command: 'conda install -n .conda ipykernel --update-deps --force-reinstall'"
     ]
    }
   ],
   "source": [
    "class Models:\n",
    "    def __init__(self):\n",
    "        self.name = ''\n",
    "        path =r\"D:\\REPO\\internship\\main project\\trainingdata.csv\"\n",
    "        df = pd.read_csv(path)\n",
    "        df = df.dropna()\n",
    "        self.x = df['sentences']\n",
    "        self.y = df['sentiments'] \n",
    "    \n",
    "    def mnb_classifier(self):\n",
    "        self.name = 'MultinomialNB classifier'\n",
    "        classifier = Pipeline([('vect', CountVectorizer()), ('tfidf', TfidfTransformer()), ('clf', MultinomialNB())])\n",
    "        return classifier.fit(self.x, self.y)\n",
    "\n",
    "    def svm_classifier(self):\n",
    "        self.name = 'SVM classifier'\n",
    "        classifier = Pipeline([('vect', CountVectorizer()), ('tfidf', TfidfTransformer()),('clf-svm', SGDClassifier(loss='hinge', penalty='l2',alpha=1e-3, random_state=42))])\n",
    "        classifier = classifier.fit(self.x, self.y)\n",
    "        pickle.dump(classifier,open(self.name + '.pkl', \"wb\"))\n",
    "        return classifier\n",
    "\n",
    "    def mnb_stemmed_classifier(self):\n",
    "        self.name = 'MultinomialNB stemmed classifier'\n",
    "        self.stemmed_count_vect = StemmedCountVectorizer(stop_words='english')\n",
    "        classifier = Pipeline([('vect', self.stemmed_count_vect), ('tfidf', TfidfTransformer()),('mnb', MultinomialNB(fit_prior=False))])\n",
    "        classifier = classifier.fit(self.x, self.y)\n",
    "        pickle.dump(classifier, open(self.name + '.pkl', \"wb\"))\n",
    "        return classifier\n",
    "\n",
    "    def svm_stemmed_classifier(self):\n",
    "        self.name = 'SVM stemmed classifier'\n",
    "        self.stemmed_count_vect = StemmedCountVectorizer(stop_words='english')\n",
    "        classifier = Pipeline([('vect', self.stemmed_count_vect), ('tfidf', TfidfTransformer()),('clf-svm', SGDClassifier())])\n",
    "        classifier = classifier.fit(self.x, self.y)\n",
    "        pickle.dump(classifier, open(self.name + '.pkl', \"wb\"))\n",
    "        return classifier\n",
    "\n",
    "    def accuracy(self, model):\n",
    "        predicted = model.predict(self.x)\n",
    "        accuracy = np.mean(predicted == self.y)\n",
    "        print(f\"{self.name} has accuracy of {accuracy * 100} % \")\n",
    "\n",
    "class StemmedCountVectorizer(CountVectorizer):\n",
    "\n",
    "    def build_analyzer(self):\n",
    "        stemmer = SnowballStemmer(\"english\", ignore_stopwords=True)\n",
    "        analyzer = super(StemmedCountVectorizer, self).build_analyzer()\n",
    "        return lambda doc: ([stemmer.stem(w) for w in analyzer(doc)])\n",
    "\n",
    "\n",
    "if __name__ == '__main__':\n",
    "    model = Models()\n",
    "    model.accuracy(model.mnb_classifier())\n",
    "    model.accuracy(model.svm_classifier())\n",
    "    model.accuracy(model.mnb_stemmed_classifier())\n",
    "    model.accuracy(model.svm_stemmed_classifier())\n",
    "\n"
   ]
  }
 ],
 "metadata": {
  "kernelspec": {
   "display_name": ".conda",
   "language": "python",
   "name": "python3"
  },
  "language_info": {
   "codemirror_mode": {
    "name": "ipython",
    "version": 3
   },
   "file_extension": ".py",
   "mimetype": "text/x-python",
   "name": "python",
   "nbconvert_exporter": "python",
   "pygments_lexer": "ipython3",
   "version": "3.11.11"
  }
 },
 "nbformat": 4,
 "nbformat_minor": 5
}
